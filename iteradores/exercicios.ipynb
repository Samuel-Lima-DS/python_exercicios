{
 "cells": [
  {
   "cell_type": "markdown",
   "metadata": {},
   "source": [
    "### 1 - Crie uma função iterável “meses” que retorne meses. Use um laço for para mostrar os valores."
   ]
  },
  {
   "cell_type": "code",
   "execution_count": null,
   "metadata": {},
   "outputs": [
    {
     "name": "stdout",
     "output_type": "stream",
     "text": [
      "janeiro\n",
      "fevereiro\n",
      "março\n",
      "abril\n",
      "maio\n",
      "junho\n",
      "julho\n",
      "agosto\n",
      "setembro\n",
      "outubro\n",
      "novembro\n",
      "dezembro\n"
     ]
    }
   ],
   "source": [
    "def meses():\n",
    "  meses = ['janeiro','fevereiro','março','abril','maio','junho','julho',\n",
    "           'agosto','setembro','outubro','novembro','dezembro']\n",
    "  for i in meses:\n",
    "    yield i     # manter a posicao da iteracao\n",
    "\n",
    "for mes in meses():\n",
    "  print(mes)"
   ]
  },
  {
   "cell_type": "markdown",
   "metadata": {},
   "source": [
    "### 2 - Cria uma função iterável que receba uma lista de números e que retorne  a cada iteração um item dessa lista multiplicado por dois."
   ]
  },
  {
   "cell_type": "code",
   "execution_count": 2,
   "metadata": {},
   "outputs": [
    {
     "name": "stdout",
     "output_type": "stream",
     "text": [
      "2\n",
      "4\n",
      "6\n",
      "8\n",
      "10\n"
     ]
    }
   ],
   "source": [
    "def duplicado(lista):\n",
    "  for i in lista:\n",
    "    yield i*2\n",
    "\n",
    "lista = [1,2,3,4,5]\n",
    "\n",
    "for i in duplicado(lista):\n",
    "  print(i)"
   ]
  },
  {
   "cell_type": "markdown",
   "metadata": {},
   "source": [
    "### 3 - Crie uma classe iterável chamada “Tabuada” que calcule a tabuada da  multiplicação do número recebido no construtor.  A cada iteração ela deve retornar um resultado da tabuada.  Para testar use um laço for."
   ]
  },
  {
   "cell_type": "code",
   "execution_count": 3,
   "metadata": {},
   "outputs": [
    {
     "name": "stdout",
     "output_type": "stream",
     "text": [
      "2\n",
      "4\n",
      "6\n",
      "8\n",
      "10\n",
      "12\n",
      "14\n",
      "16\n",
      "18\n",
      "20\n"
     ]
    }
   ],
   "source": [
    "class Tabuada:\n",
    "  def __init__(self, num):\n",
    "    self.num = num\n",
    "  def __iter__(self):\n",
    "    self.atual = 0\n",
    "    return self\n",
    "  def __next__(self):\n",
    "    self.atual += 1\n",
    "    if(self.atual ==11):\n",
    "      raise StopIteration\n",
    "    return self.atual * self.num\n",
    "\n",
    "tabuada_cal = Tabuada(2)\n",
    "\n",
    "for i in tabuada_cal:\n",
    "  print(i)"
   ]
  },
  {
   "cell_type": "markdown",
   "metadata": {},
   "source": [
    "### 4 (Desafio) - Crie uma classe que retorne os fatoriais de um número no   intervalo de X a Y, recebidos por parâmetro no construtor da classe."
   ]
  },
  {
   "cell_type": "code",
   "execution_count": 4,
   "metadata": {},
   "outputs": [
    {
     "name": "stdout",
     "output_type": "stream",
     "text": [
      "1\n",
      "2\n",
      "6\n",
      "24\n",
      "120\n",
      "720\n",
      "5040\n",
      "40320\n",
      "362880\n",
      "3628800\n"
     ]
    }
   ],
   "source": [
    "class Fatorial:\n",
    "  def __init__(self,x,y):\n",
    "    self.x = x\n",
    "    self.y = y\n",
    "  \n",
    "  def __iter__(self):      #inicializador de um projeto iteravel\n",
    "    self.atual = self.x\n",
    "    return self\n",
    "  \n",
    "  @staticmethod\n",
    "  def calcula_fatorial(num):\n",
    "    result = 1\n",
    "    for i in range(1, num+1):\n",
    "      result *= i\n",
    "    return result\n",
    "  \n",
    "  def __next__(self):\n",
    "    if (self.atual == self.y + 1):\n",
    "      raise StopIteration\n",
    "    result = Fatorial.calcula_fatorial(self.atual)\n",
    "    self.atual += 1\n",
    "    return result\n",
    "\n",
    "for i in Fatorial(1,10):\n",
    "  print(i)"
   ]
  },
  {
   "cell_type": "markdown",
   "metadata": {},
   "source": [
    "### 5 - Utilizando como base o exercício 1, retorne o número que representa o mês  e o próprio mês. Faça isso de duas maneiras diferentes  (usando enumeradores e a outra usando join)."
   ]
  },
  {
   "cell_type": "code",
   "execution_count": 5,
   "metadata": {},
   "outputs": [
    {
     "name": "stdout",
     "output_type": "stream",
     "text": [
      "1 janeiro\n",
      "2 fevereiro\n",
      "3 março\n",
      "4 abril\n",
      "5 maio\n",
      "6 junho\n",
      "7 julho\n",
      "8 agosto\n",
      "9 setembro\n",
      "10 outubro\n",
      "11 novembro\n",
      "12 dezembro\n"
     ]
    }
   ],
   "source": [
    "def meses_enum():\n",
    "  meses = ['janeiro','fevereiro','março','abril','maio','junho','julho',\n",
    "           'agosto','setembro','outubro','novembro','dezembro']\n",
    "  for i in enumerate(meses):\n",
    "    yield i\n",
    "\n",
    "for indice, mes in meses_enum():\n",
    "  print(indice+1, mes)"
   ]
  },
  {
   "cell_type": "markdown",
   "metadata": {},
   "source": [
    "### 6 - Crie uma função que receba uma lista de frases e junte as mesmas em uma só,  separados por ponto final."
   ]
  },
  {
   "cell_type": "code",
   "execution_count": 6,
   "metadata": {},
   "outputs": [
    {
     "name": "stdout",
     "output_type": "stream",
     "text": [
      "Olá, sou Carlos. Gosto de Python. Trabalho como dev.\n"
     ]
    }
   ],
   "source": [
    "def frase(lista):\n",
    "  return '. '.join(lista) + '.'\n",
    "\n",
    "textos = ['Olá, sou Carlos','Gosto de Python', 'Trabalho como dev']\n",
    "\n",
    "print(frase(textos))"
   ]
  }
 ],
 "metadata": {
  "kernelspec": {
   "display_name": "Python 3",
   "language": "python",
   "name": "python3"
  },
  "language_info": {
   "codemirror_mode": {
    "name": "ipython",
    "version": 3
   },
   "file_extension": ".py",
   "mimetype": "text/x-python",
   "name": "python",
   "nbconvert_exporter": "python",
   "pygments_lexer": "ipython3",
   "version": "3.12.5"
  }
 },
 "nbformat": 4,
 "nbformat_minor": 2
}
