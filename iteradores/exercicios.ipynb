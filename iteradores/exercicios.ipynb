{
 "cells": [
  {
   "cell_type": "markdown",
   "metadata": {},
   "source": [
    "### 1 - Crie uma função iterável “meses” que retorne meses. Use um laço for para mostrar os valores."
   ]
  },
  {
   "cell_type": "code",
   "execution_count": null,
   "metadata": {},
   "outputs": [],
   "source": []
  },
  {
   "cell_type": "markdown",
   "metadata": {},
   "source": [
    "### 2 - Cria uma função iterável que receba uma lista de números e que retorne  a cada iteração um item dessa lista multiplicado por dois."
   ]
  },
  {
   "cell_type": "markdown",
   "metadata": {},
   "source": [
    "### 3 - Crie uma classe iterável chamada “Tabuada” que calcule a tabuada da  multiplicação do número recebido no construtor.  A cada iteração ela deve retornar um resultado da tabuada.  Para testar use um laço for."
   ]
  },
  {
   "cell_type": "markdown",
   "metadata": {},
   "source": [
    "### 4 (Desafio) - Crie uma classe que retorne os fatoriais de um número no   intervalo de X a Y, recebidos por parâmetro no construtor da classe."
   ]
  },
  {
   "cell_type": "markdown",
   "metadata": {},
   "source": [
    "### 5 - Utilizando como base o exercício 1, retorne o número que representa o mês  e o próprio mês. Faça isso de duas maneiras diferentes  (usando enumeradores e a outra usando join)."
   ]
  },
  {
   "cell_type": "markdown",
   "metadata": {},
   "source": [
    "### 6 - Crie uma função que receba uma lista de frases e junte as mesmas em uma só,  separados por ponto final."
   ]
  }
 ],
 "metadata": {
  "kernelspec": {
   "display_name": "Python 3",
   "language": "python",
   "name": "python3"
  },
  "language_info": {
   "name": "python",
   "version": "3.12.5"
  }
 },
 "nbformat": 4,
 "nbformat_minor": 2
}
