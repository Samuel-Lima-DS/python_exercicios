{
 "cells": [
  {
   "cell_type": "markdown",
   "metadata": {},
   "source": [
    "### 1. Crie uma lista com os numeros 1,10,6,7,8,10. Printe e soma esses numeros\n",
    "\n"
   ]
  },
  {
   "cell_type": "code",
   "execution_count": 1,
   "metadata": {},
   "outputs": [
    {
     "name": "stdout",
     "output_type": "stream",
     "text": [
      "42\n"
     ]
    }
   ],
   "source": [
    "lista = [1,10,6,7,8,10]\n",
    "soma = 0\n",
    "\n",
    "for x in lista:\n",
    "    soma += x\n",
    "print(soma)\n",
    "\n"
   ]
  },
  {
   "cell_type": "markdown",
   "metadata": {},
   "source": [
    "### 2.Crie duas listas com os seguintes valores: 30,4,4352,65,-10 e 43,2,4,76,32,65,3 .Agora faça a junção dessas listas mas se houver valores repetidos não podem repetir na lista unida."
   ]
  },
  {
   "cell_type": "code",
   "execution_count": 4,
   "metadata": {},
   "outputs": [
    {
     "name": "stdout",
     "output_type": "stream",
     "text": [
      "{32, 65, 2, 3, 4, 43, 76, 52, -10, 30}\n"
     ]
    }
   ],
   "source": [
    "listaset1={30,4,43,52,65,-10}\n",
    "listaset2={43,2,4,76,32,65,3}\n",
    "\n",
    "lista = listaset1.union(listaset2)\n",
    "print(lista)\n",
    "\n"
   ]
  },
  {
   "cell_type": "markdown",
   "metadata": {},
   "source": [
    "### 3.Crie uma lista vazia e preencha ela com valores de 1 a 20."
   ]
  },
  {
   "cell_type": "code",
   "execution_count": 2,
   "metadata": {},
   "outputs": [
    {
     "name": "stdout",
     "output_type": "stream",
     "text": [
      "[1, 2, 3, 4, 5, 6, 7, 8, 9, 10, 11, 12, 13, 14, 15, 16, 17, 18, 19, 20]\n"
     ]
    }
   ],
   "source": [
    "lista=[]\n",
    "\n",
    "for i in range(1,21):\n",
    "    lista.append(i)\n",
    "print(lista)"
   ]
  },
  {
   "cell_type": "markdown",
   "metadata": {},
   "source": [
    "### 4. Crie uma lista contendo todos os meses do ano. Receba por input o mes de nascimento e mostre o nome do mes que nasceu"
   ]
  },
  {
   "cell_type": "code",
   "execution_count": 5,
   "metadata": {},
   "outputs": [
    {
     "name": "stdout",
     "output_type": "stream",
     "text": [
      "O mes que nasci foi: março\n"
     ]
    }
   ],
   "source": [
    "meses =('janeiro','fevereiro','março','abril','maio','junho','julho','agosto','setembro','outubro','novembro','dezembro')\n",
    "\n",
    "mes_nascimento = int(input( 'Mês que nasceu: '))\n",
    "\n",
    "print('O mes que nasci foi: {}' .format(meses[mes_nascimento-1]))"
   ]
  },
  {
   "cell_type": "markdown",
   "metadata": {},
   "source": [
    "### 5. Crie uma lista de todos os dias do mês que voce nasceu. Receba por input o dia em voce nasceu e remova desta lista ."
   ]
  },
  {
   "cell_type": "code",
   "execution_count": 6,
   "metadata": {},
   "outputs": [
    {
     "name": "stdout",
     "output_type": "stream",
     "text": [
      "[1, 2, 3, 4, 5, 6, 7, 8, 9, 10, 11, 12, 13, 14, 15, 16, 17, 18, 19, 20, 21, 23, 24, 25, 26, 27, 28, 29, 30]\n"
     ]
    }
   ],
   "source": [
    "dias =[]\n",
    "\n",
    "for i in range(1,31):\n",
    "    dias.append(i)\n",
    "\n",
    "dia_nascido = int(input('Digite o dia que nasci: '))\n",
    "\n",
    "dias.remove(dia_nascido)\n",
    "print(dias)"
   ]
  }
 ],
 "metadata": {
  "kernelspec": {
   "display_name": "Python 3",
   "language": "python",
   "name": "python3"
  },
  "language_info": {
   "codemirror_mode": {
    "name": "ipython",
    "version": 3
   },
   "file_extension": ".py",
   "mimetype": "text/x-python",
   "name": "python",
   "nbconvert_exporter": "python",
   "pygments_lexer": "ipython3",
   "version": "3.12.5"
  }
 },
 "nbformat": 4,
 "nbformat_minor": 2
}
