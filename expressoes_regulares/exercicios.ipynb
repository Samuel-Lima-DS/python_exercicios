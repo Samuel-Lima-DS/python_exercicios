{
 "cells": [
  {
   "cell_type": "markdown",
   "metadata": {},
   "source": [
    "# 1 - Faça uma expressão regular para reconhecer números de 20 até 35 apenas. O texto deve ser composto apenas destes números, nenhum outro caractere  é permitido"
   ]
  },
  {
   "cell_type": "code",
   "execution_count": 1,
   "metadata": {},
   "outputs": [
    {
     "name": "stdout",
     "output_type": "stream",
     "text": [
      "Valor inválido\n"
     ]
    }
   ],
   "source": [
    "import re\n",
    "texto = '16'\n",
    "info = re.search(\"^([2][0-9])|([3][0-5])$\", texto)\n",
    "if info != None:\n",
    "  print(\"Encontrado ocorrência em \", info.span())\n",
    "  print(\"Número encontrado  \", info.group())\n",
    "else:\n",
    "  print(\"Valor inválido\")"
   ]
  },
  {
   "cell_type": "markdown",
   "metadata": {},
   "source": [
    "# 2 - Faça uma expressão regular para dizer se a palavra 'python' esta na frase."
   ]
  },
  {
   "cell_type": "code",
   "execution_count": 2,
   "metadata": {},
   "outputs": [
    {
     "name": "stdout",
     "output_type": "stream",
     "text": [
      "Encontrado ocorrência em  (22, 28)\n",
      "Número encontrado   python\n"
     ]
    }
   ],
   "source": [
    "import re\n",
    "texto = 'este notebook utiliza python'\n",
    "info = re.search(\"python\", texto)\n",
    "if info != None:\n",
    "  print(\"Encontrado ocorrência em \", info.span())\n",
    "  print(\"Número encontrado  \", info.group())\n",
    "else:\n",
    "  print(\"Valor inválido\")"
   ]
  },
  {
   "cell_type": "markdown",
   "metadata": {},
   "source": [
    "# 3 - Faça uma expressão regular para validar se uma string dada é um dia da  semana. As possibilidades são:Segunda-Feira Terça-Feira Quarta-Feira Quinta-Feira Sexta-Feira Sábado Domingo\n"
   ]
  },
  {
   "cell_type": "code",
   "execution_count": 4,
   "metadata": {},
   "outputs": [
    {
     "name": "stdout",
     "output_type": "stream",
     "text": [
      "Encontrado ocorrência em  (0, 11)\n",
      "Número encontrado   Terça-Feira\n"
     ]
    }
   ],
   "source": [
    "import re\n",
    "texto = 'Terça-Feira'\n",
    "info = re.search('^(Segunda-Feira|Terça-Feira|Quarta-Feira|Quinta-Feira|Sexta-Feira|Sábado|Domingo)$', texto)\n",
    "if info != None:\n",
    "  print(\"Encontrado ocorrência em \", info.span())\n",
    "  print(\"Número encontrado  \", info.group())\n",
    "else:\n",
    "  print(\"Valor inválido\")"
   ]
  },
  {
   "cell_type": "markdown",
   "metadata": {},
   "source": [
    "# 4 - Faça uma expressão regular para detectar telefones que comecem com 95.  Telefones que começam com 95 devem ser bloqueados. Um número de  telefone deve ser válido para poder ser validado, na forma XXXXXXXX onde X é  um número. Primeiro diga se é um número válido.Caso seja diga se ele foi bloqueado ou não."
   ]
  },
  {
   "cell_type": "code",
   "execution_count": 6,
   "metadata": {},
   "outputs": [
    {
     "name": "stdout",
     "output_type": "stream",
     "text": [
      "Número inválido\n"
     ]
    }
   ],
   "source": [
    "import re\n",
    "texto = '9645634'\n",
    "\n",
    "info = re.search(\"^([0-9]{8})$\", texto)\n",
    "\n",
    "if info !=None:\n",
    "  print(\"Número válido\")\n",
    "  info2 = re.search(\"^95([0-9]{6})$\", texto)\n",
    "  if info2 !=None:\n",
    "    print(\"Telefone bloqueado\")\n",
    "  else:\n",
    "    print(\"Telefone não bloqueado\")\n",
    "else:\n",
    "  print(\"Número inválido\")"
   ]
  },
  {
   "cell_type": "markdown",
   "metadata": {},
   "source": [
    "# 5 - Faça uma expressão regular para reconhecer palavrados no gerúndio.  Normalmente essas palavras podem ser detectadas caso elas terminem com ando, sendo, indo: Exemplo: sorrindo, andando. Usa a função “find all”  para retornar as ocorrências."
   ]
  },
  {
   "cell_type": "code",
   "execution_count": 7,
   "metadata": {},
   "outputs": [
    {
     "name": "stdout",
     "output_type": "stream",
     "text": [
      "['dormindo', 'sorrindo']\n"
     ]
    },
    {
     "name": "stderr",
     "output_type": "stream",
     "text": [
      "<>:3: SyntaxWarning: invalid escape sequence '\\w'\n",
      "<>:3: SyntaxWarning: invalid escape sequence '\\w'\n",
      "C:\\Users\\User\\AppData\\Local\\Temp\\ipykernel_12988\\4011645994.py:3: SyntaxWarning: invalid escape sequence '\\w'\n",
      "  info = re.findall(\"([\\w]+indo|ando|endo)+\", texto)\n"
     ]
    }
   ],
   "source": [
    "import re\n",
    "texto = \"Olá, eu estou dormindo, e não sorrindo\"\n",
    "info = re.findall(\"([\\w]+indo|ando|endo)+\", texto)\n",
    "print(info)"
   ]
  },
  {
   "cell_type": "code",
   "execution_count": 8,
   "metadata": {},
   "outputs": [
    {
     "data": {
      "text/plain": [
       "'\\n6 - Faça um expressão regular para detectar se a hora é válida: \\nO formato é de 24 horas, e é especificado da seguinte forma: HH:MM\\nEx:\\n19:30\\n09:30\\n23:45\\n23:70 (inválido)\\n'"
      ]
     },
     "execution_count": 8,
     "metadata": {},
     "output_type": "execute_result"
    }
   ],
   "source": [
    "'''\n",
    "6 - Faça um expressão regular para detectar se a hora é válida: \n",
    "O formato é de 24 horas, e é especificado da seguinte forma: HH:MM\n",
    "Ex:\n",
    "19:30\n",
    "09:30\n",
    "23:45\n",
    "23:70 (inválido)\n",
    "'''"
   ]
  },
  {
   "cell_type": "code",
   "execution_count": 9,
   "metadata": {},
   "outputs": [
    {
     "name": "stdout",
     "output_type": "stream",
     "text": [
      "Horário válido\n"
     ]
    }
   ],
   "source": [
    "import re\n",
    "texto = '00:59'\n",
    "\n",
    "info = re.search(\"^([0-1][0-9]|[2][0-3]):[0-5][0-9]$\", texto)\n",
    "\n",
    "if info != None:\n",
    "  print(\"Horário válido\")\n",
    "else:\n",
    "  print(\"Horário inválido\")"
   ]
  },
  {
   "cell_type": "markdown",
   "metadata": {},
   "source": [
    "# 7 (DESAFIO) - Faça uma expressão regular para validar se uma expressão é uma  conta matemática valida. Nessa conta matemática só podem haver 2 números  inteiros sendo somados ou subtraídos entre si. Valide se é uma expressão matemática ou não."
   ]
  },
  {
   "cell_type": "code",
   "execution_count": 10,
   "metadata": {},
   "outputs": [
    {
     "name": "stdout",
     "output_type": "stream",
     "text": [
      "Expressão válida\n"
     ]
    },
    {
     "name": "stderr",
     "output_type": "stream",
     "text": [
      "<>:4: SyntaxWarning: invalid escape sequence '\\d'\n",
      "<>:4: SyntaxWarning: invalid escape sequence '\\d'\n",
      "C:\\Users\\User\\AppData\\Local\\Temp\\ipykernel_12988\\819470939.py:4: SyntaxWarning: invalid escape sequence '\\d'\n",
      "  info = re.search('^ *(\\d+ *(-|\\+) *\\d+) *$', texto)\n"
     ]
    }
   ],
   "source": [
    "import re\n",
    "\n",
    "texto = '3232+4453'\n",
    "info = re.search('^ *(\\d+ *(-|\\+) *\\d+) *$', texto)\n",
    "if info != None:\n",
    "  print(\"Expressão válida\")\n",
    "else:\n",
    "  print(\"Expressão inválida\")"
   ]
  }
 ],
 "metadata": {
  "kernelspec": {
   "display_name": "Python 3",
   "language": "python",
   "name": "python3"
  },
  "language_info": {
   "codemirror_mode": {
    "name": "ipython",
    "version": 3
   },
   "file_extension": ".py",
   "mimetype": "text/x-python",
   "name": "python",
   "nbconvert_exporter": "python",
   "pygments_lexer": "ipython3",
   "version": "3.12.5"
  }
 },
 "nbformat": 4,
 "nbformat_minor": 2
}
