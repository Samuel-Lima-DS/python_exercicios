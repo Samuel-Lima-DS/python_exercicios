{
 "cells": [
  {
   "cell_type": "markdown",
   "metadata": {},
   "source": [
    "### 1- crie uma funcao que receba argumentos de tamanho arbitrario. Todos os argumentos sao numeros. Retorne o menor numero entre eles."
   ]
  },
  {
   "cell_type": "code",
   "execution_count": 2,
   "metadata": {},
   "outputs": [
    {
     "data": {
      "text/plain": [
       "-2"
      ]
     },
     "execution_count": 2,
     "metadata": {},
     "output_type": "execute_result"
    }
   ],
   "source": [
    "def menor (*numeros):\n",
    "    menor = numeros[0]\n",
    "    for num in numeros:\n",
    "        menor = min( num, menor)\n",
    "    return menor\n",
    "\n",
    "menor(1,2,3,4,-2,6,7,8,9,10)"
   ]
  },
  {
   "cell_type": "markdown",
   "metadata": {},
   "source": [
    "### 2. Crie uma funcao que calcula a formula de baskara."
   ]
  },
  {
   "cell_type": "code",
   "execution_count": 3,
   "metadata": {},
   "outputs": [
    {
     "name": "stdout",
     "output_type": "stream",
     "text": [
      "As raízes são -2.0 e -2.5\n"
     ]
    }
   ],
   "source": [
    "a = float(input('Digite o coeficiente a: '))\n",
    "b = float(input('Digite o coeficiente b: '))    \n",
    "c = float(input('Digite o coeficiente c: '))\n",
    "\n",
    "delta = b**2 - 4*a*c\n",
    "\n",
    "if delta > 0:\n",
    "    x1 = (-b + delta**0.5) / (2*a)\n",
    "    x2 = (-b - delta**0.5) / (2*a)\n",
    "    print(f'As raízes são {x1} e {x2}') "
   ]
  },
  {
   "cell_type": "markdown",
   "metadata": {},
   "source": [
    "### 3. Crie uma funcao que receba o que foi digitado pelo ususario no chat e tambem uma lista contendo palavras não permitidas a serem digitadas ."
   ]
  },
  {
   "cell_type": "code",
   "execution_count": 4,
   "metadata": {},
   "outputs": [
    {
     "name": "stdout",
     "output_type": "stream",
     "text": [
      "que * de matéria dificil\n"
     ]
    }
   ],
   "source": [
    "def retira_palavra(texto, palavras):\n",
    "    for palavra in palavras:\n",
    "        if palavra in texto:\n",
    "            texto = texto.replace(palavra, '*')\n",
    "    return texto\n",
    "\n",
    "texto_usuario = 'que droga de matéria dificil'\n",
    "palavras_proibidas = ['droga']\n",
    "\n",
    "print(retira_palavra(texto_usuario , palavras_proibidas))\n"
   ]
  },
  {
   "cell_type": "markdown",
   "metadata": {},
   "source": [
    "### 4 - Crie uma função que receba uma lista de textos. Detecte quais os valores dessa lista são inteiros e em seguida transforme  eles para um número do tipo inteiro. Todos esses valores encontrados serão retornados em uma nova lista que deve estar ordenada."
   ]
  },
  {
   "cell_type": "code",
   "execution_count": 5,
   "metadata": {},
   "outputs": [
    {
     "name": "stdout",
     "output_type": "stream",
     "text": [
      "[6, 8, 12, 100]\n"
     ]
    }
   ],
   "source": [
    "def transforma_lista(lista):\n",
    "  lista_inteiros = []\n",
    "  for item in lista:\n",
    "    if item.isdecimal():\n",
    "      lista_inteiros.append(int(item))\n",
    "  lista_inteiros.sort()\n",
    "  return lista_inteiros\n",
    "\n",
    "lista = ['12','1213r','6','8','100','3dd']\n",
    "\n",
    "print(transforma_lista(lista))"
   ]
  },
  {
   "cell_type": "markdown",
   "metadata": {},
   "source": [
    "### 5 - Leia por input sua data de nascimento no formado Dia/Mês/Ano e mostre quantos dias você já viveu."
   ]
  },
  {
   "cell_type": "code",
   "execution_count": 6,
   "metadata": {},
   "outputs": [
    {
     "name": "stdout",
     "output_type": "stream",
     "text": [
      "Você já vivieu  10844 days, 19:07:13.723669  dias\n"
     ]
    }
   ],
   "source": [
    "import datetime\n",
    "\n",
    "data_txt = input(\"Digite a data em que você nasceu em formato dia/mês/ano: \")\n",
    "data_nascimento = datetime.datetime.strptime(data_txt, '%d/%m/%Y')\n",
    "data_agora = datetime.datetime.now()\n",
    "diferenca_datas = data_agora - data_nascimento\n",
    "print(\"Você já vivieu \", diferenca_datas, ' dias')"
   ]
  },
  {
   "cell_type": "markdown",
   "metadata": {},
   "source": [
    "### 6 - Leia por input sua próxima data de aniversario no formado Dia/Mês/Ano e mostre quantos dias faltam para seu próximo aniversario."
   ]
  },
  {
   "cell_type": "code",
   "execution_count": 8,
   "metadata": {},
   "outputs": [
    {
     "name": "stdout",
     "output_type": "stream",
     "text": [
      "Você fará aniversário daqui  113  dias\n"
     ]
    }
   ],
   "source": [
    "import datetime\n",
    "data_txt = input(\"Digite a data do seu próximo aniversário no formato dia/mes/ano\")\n",
    "data_aniversario = datetime.datetime.strptime(data_txt, '%d/%m/%Y')\n",
    "data_agora = datetime.datetime.now()\n",
    "diferenca_datas = data_aniversario - data_agora\n",
    "print(\"Você fará aniversário daqui \", diferenca_datas.days , ' dias')"
   ]
  }
 ],
 "metadata": {
  "kernelspec": {
   "display_name": "Python 3",
   "language": "python",
   "name": "python3"
  },
  "language_info": {
   "codemirror_mode": {
    "name": "ipython",
    "version": 3
   },
   "file_extension": ".py",
   "mimetype": "text/x-python",
   "name": "python",
   "nbconvert_exporter": "python",
   "pygments_lexer": "ipython3",
   "version": "3.12.5"
  }
 },
 "nbformat": 4,
 "nbformat_minor": 2
}
