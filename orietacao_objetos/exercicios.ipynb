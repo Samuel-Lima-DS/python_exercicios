{
 "cells": [
  {
   "cell_type": "markdown",
   "metadata": {},
   "source": [
    "### 1 - Crie uma classe para representar um carro. Ele deve ter um atributo que  diga sua potência em cavalos. Outro atributo deve dizer quanto de gasolina  por quilômetros ele consome. Cria duas instâncias e mostre os valores."
   ]
  },
  {
   "cell_type": "code",
   "execution_count": 1,
   "metadata": {},
   "outputs": [
    {
     "name": "stdout",
     "output_type": "stream",
     "text": [
      "Potência do carro 1:  100  cavalos\n",
      "Alcance do carro 1:  200  Km/l\n",
      "Potência do carro 2:  200  cavalos\n",
      "Alcance do carro 2:  350.5  Km/l\n"
     ]
    }
   ],
   "source": [
    "class Carro:\n",
    "  def __init__(self, potencia, alcance):\n",
    "    self.potencia = potencia\n",
    "    self.alcance = alcance\n",
    "\n",
    "carro1 = Carro(100,200)\n",
    "carro2 = Carro(200,350.5)\n",
    "\n",
    "print(\"Potência do carro 1: \", carro1.potencia, \" cavalos\")\n",
    "print(\"Alcance do carro 1: \", carro1.alcance, \" Km/l\")\n",
    "\n",
    "print(\"Potência do carro 2: \", carro2.potencia, \" cavalos\")\n",
    "print(\"Alcance do carro 2: \", carro2.alcance, \" Km/l\")"
   ]
  },
  {
   "cell_type": "markdown",
   "metadata": {},
   "source": [
    "### 2 - Cria uma classe que represente uma pessoa. Ela deve possuir um nome,  CPF e um dependente, onde o dependente é outra pessoa. Dependente não é obrigatório. Crie duas instâncias: pai e filho,  e imprima as saídas."
   ]
  },
  {
   "cell_type": "code",
   "execution_count": 2,
   "metadata": {},
   "outputs": [
    {
     "name": "stdout",
     "output_type": "stream",
     "text": [
      "Nome  Rodrigo  CPF:  200.300.400-45  Dependente:  None\n",
      "Nome  Fernando  CPF:  100.200.300-34  Dependente:  Rodrigo\n"
     ]
    }
   ],
   "source": [
    "class Pessoa:\n",
    "  def __init__(self, nome, cpf, dependente=None):\n",
    "    self.nome = nome\n",
    "    self.cpf = cpf\n",
    "    self.dependente = dependente\n",
    "\n",
    "filho = Pessoa(\"Rodrigo\",\"200.300.400-45\")\n",
    "pai = Pessoa(\"Fernando\",\"100.200.300-34\",filho)\n",
    "\n",
    "print(\"Nome \", filho.nome, \" CPF: \", filho.cpf, \" Dependente: \" , filho.dependente )\n",
    "print(\"Nome \", pai.nome, \" CPF: \", pai.cpf, \" Dependente: \" , pai.dependente.nome )"
   ]
  },
  {
   "cell_type": "markdown",
   "metadata": {},
   "source": [
    "### 3 - Crie uma classe base que represente um veículo.  Os atributos devem ser peso do veiculo, número de rodas e potência.  Em seguida crie três classes que herdam esse veículo: ônibus, carro e moto.  Crie uma instância de cada tipo e imprima as instâncias"
   ]
  },
  {
   "cell_type": "code",
   "execution_count": null,
   "metadata": {},
   "outputs": [],
   "source": [
    " class Veiculo:\n",
    "   def __init__(self, peso, potencia, rodas):\n",
    "     self.peso = peso\n",
    "     self.potencia = potencia\n",
    "     self.rodas = rodas\n",
    "\n",
    "class Moto(Veiculo):\n",
    "  def __init__(self, peso, potencia, rodas):\n",
    "    Veiculo.__init__(self, peso, potencia, rodas)\n",
    "\n",
    "class Carro(Veiculo):\n",
    "  def __init__(self, peso, potencia, rodas):\n",
    "    Veiculo.__init__(self, peso, potencia, rodas)\n",
    "\n",
    "class Onibus(Veiculo):\n",
    "  def __init__(self, peso, potencia, rodas):\n",
    "    Veiculo.__init__(self, peso, potencia, rodas)\n",
    "\n",
    "onibus = Onibus(1000,400, 6)\n",
    "carro = Carro(300, 100, 4)\n",
    "moto = Moto(100,50,2)\n",
    "\n",
    "print(\"Onibus, Peso: \", onibus.peso, \" Potência: \", onibus.potencia, \" Rodas \", onibus.rodas)\n",
    "print(\"Carro, Peso: \", carro.peso, \" Potência: \", carro.potencia, \" Rodas \", carro.rodas)\n",
    "print(\"Moto, Peso: \", moto.peso, \" Potência: \", moto.potencia, \" Rodas \", moto.rodas)\n"
   ]
  }
 ],
 "metadata": {
  "kernelspec": {
   "display_name": "Python 3",
   "language": "python",
   "name": "python3"
  },
  "language_info": {
   "codemirror_mode": {
    "name": "ipython",
    "version": 3
   },
   "file_extension": ".py",
   "mimetype": "text/x-python",
   "name": "python",
   "nbconvert_exporter": "python",
   "pygments_lexer": "ipython3",
   "version": "3.12.5"
  }
 },
 "nbformat": 4,
 "nbformat_minor": 2
}
