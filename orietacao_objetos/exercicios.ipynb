{
 "cells": [
  {
   "cell_type": "markdown",
   "metadata": {},
   "source": [
    "### 1 - Crie uma classe para representar um carro. Ele deve ter um atributo que  diga sua potência em cavalos. Outro atributo deve dizer quanto de gasolina  por quilômetros ele consome. Cria duas instâncias e mostre os valores."
   ]
  },
  {
   "cell_type": "code",
   "execution_count": 1,
   "metadata": {},
   "outputs": [
    {
     "name": "stdout",
     "output_type": "stream",
     "text": [
      "Potência do carro 1:  100  cavalos\n",
      "Alcance do carro 1:  200  Km/l\n",
      "Potência do carro 2:  200  cavalos\n",
      "Alcance do carro 2:  350.5  Km/l\n"
     ]
    }
   ],
   "source": [
    "class Carro:\n",
    "  def __init__(self, potencia, alcance):\n",
    "    self.potencia = potencia\n",
    "    self.alcance = alcance\n",
    "\n",
    "carro1 = Carro(100,200)\n",
    "carro2 = Carro(200,350.5)\n",
    "\n",
    "print(\"Potência do carro 1: \", carro1.potencia, \" cavalos\")\n",
    "print(\"Alcance do carro 1: \", carro1.alcance, \" Km/l\")\n",
    "\n",
    "print(\"Potência do carro 2: \", carro2.potencia, \" cavalos\")\n",
    "print(\"Alcance do carro 2: \", carro2.alcance, \" Km/l\")"
   ]
  },
  {
   "cell_type": "markdown",
   "metadata": {},
   "source": [
    "### 2 - Cria uma classe que represente uma pessoa. Ela deve possuir um nome,  CPF e um dependente, onde o dependente é outra pessoa. Dependente não é obrigatório. Crie duas instâncias: pai e filho,  e imprima as saídas."
   ]
  },
  {
   "cell_type": "code",
   "execution_count": 2,
   "metadata": {},
   "outputs": [
    {
     "name": "stdout",
     "output_type": "stream",
     "text": [
      "Nome  Rodrigo  CPF:  200.300.400-45  Dependente:  None\n",
      "Nome  Fernando  CPF:  100.200.300-34  Dependente:  Rodrigo\n"
     ]
    }
   ],
   "source": [
    "class Pessoa:\n",
    "  def __init__(self, nome, cpf, dependente=None):\n",
    "    self.nome = nome\n",
    "    self.cpf = cpf\n",
    "    self.dependente = dependente\n",
    "\n",
    "filho = Pessoa(\"Rodrigo\",\"200.300.400-45\")\n",
    "pai = Pessoa(\"Fernando\",\"100.200.300-34\",filho)\n",
    "\n",
    "print(\"Nome \", filho.nome, \" CPF: \", filho.cpf, \" Dependente: \" , filho.dependente )\n",
    "print(\"Nome \", pai.nome, \" CPF: \", pai.cpf, \" Dependente: \" , pai.dependente.nome )"
   ]
  },
  {
   "cell_type": "markdown",
   "metadata": {},
   "source": [
    "### 3 - Crie uma classe base que represente um veículo.  Os atributos devem ser peso do veiculo, número de rodas e potência.  Em seguida crie três classes que herdam esse veículo: ônibus, carro e moto.  Crie uma instância de cada tipo e imprima as instâncias"
   ]
  },
  {
   "cell_type": "code",
   "execution_count": 3,
   "metadata": {},
   "outputs": [
    {
     "name": "stdout",
     "output_type": "stream",
     "text": [
      "Onibus, Peso:  1000  Potência:  400  Rodas  6\n",
      "Carro, Peso:  300  Potência:  100  Rodas  4\n",
      "Moto, Peso:  100  Potência:  50  Rodas  2\n"
     ]
    }
   ],
   "source": [
    " class Veiculo:\n",
    "   def __init__(self, peso, potencia, rodas):\n",
    "     self.peso = peso\n",
    "     self.potencia = potencia\n",
    "     self.rodas = rodas\n",
    "\n",
    "class Moto(Veiculo):\n",
    "  def __init__(self, peso, potencia, rodas):\n",
    "    Veiculo.__init__(self, peso, potencia, rodas)\n",
    "\n",
    "class Carro(Veiculo):\n",
    "  def __init__(self, peso, potencia, rodas):\n",
    "    Veiculo.__init__(self, peso, potencia, rodas)\n",
    "\n",
    "class Onibus(Veiculo):\n",
    "  def __init__(self, peso, potencia, rodas):\n",
    "    Veiculo.__init__(self, peso, potencia, rodas)\n",
    "\n",
    "onibus = Onibus(1000,400, 6)\n",
    "carro = Carro(300, 100, 4)\n",
    "moto = Moto(100,50,2)\n",
    "\n",
    "print(\"Onibus, Peso: \", onibus.peso, \" Potência: \", onibus.potencia, \" Rodas \", onibus.rodas)\n",
    "print(\"Carro, Peso: \", carro.peso, \" Potência: \", carro.potencia, \" Rodas \", carro.rodas)\n",
    "print(\"Moto, Peso: \", moto.peso, \" Potência: \", moto.potencia, \" Rodas \", moto.rodas)\n"
   ]
  },
  {
   "cell_type": "markdown",
   "metadata": {},
   "source": [
    "### 4 - Baseado no exercício anterior, cria uma função na classe base que diga  a distância percorrida. Vamos supor que esse valor é dado pela peso do veículo dividido pela potência do veículo vezes mil. Crie uma moto, carro e um ônibus.  Mostre esses valores."
   ]
  },
  {
   "cell_type": "code",
   "execution_count": 4,
   "metadata": {},
   "outputs": [
    {
     "name": "stdout",
     "output_type": "stream",
     "text": [
      "Distancia Percorrida do onibus:  400.0\n",
      "Distancia Percorrida do carro:  333.3333333333333\n",
      "Distancia Percorrida da moto:  500.0\n"
     ]
    }
   ],
   "source": [
    "class Veiculo:\n",
    "   def __init__(self, peso, potencia, rodas):\n",
    "     self.peso = peso\n",
    "     self.potencia = potencia\n",
    "     self.rodas = rodas\n",
    "   def distancia_percorrida(self):\n",
    "     return (self.potencia / self.peso ) * 1000\n",
    "\n",
    "class Moto(Veiculo):\n",
    "  def __init__(self, peso, potencia, rodas):\n",
    "    Veiculo.__init__(self, peso, potencia, rodas)\n",
    "\n",
    "class Carro(Veiculo):\n",
    "  def __init__(self, peso, potencia, rodas):\n",
    "    Veiculo.__init__(self, peso, potencia, rodas)\n",
    "\n",
    "class Onibus(Veiculo):\n",
    "  def __init__(self, peso, potencia, rodas):\n",
    "    Veiculo.__init__(self, peso, potencia, rodas)\n",
    "\n",
    "onibus = Onibus(1000,400, 6)\n",
    "carro = Carro(300, 100, 4)\n",
    "moto = Moto(100,50,2)\n",
    "\n",
    "print(\"Distancia Percorrida do onibus: \", onibus.distancia_percorrida())\n",
    "print(\"Distancia Percorrida do carro: \", carro.distancia_percorrida())\n",
    "print(\"Distancia Percorrida da moto: \", moto.distancia_percorrida())"
   ]
  },
  {
   "cell_type": "markdown",
   "metadata": {},
   "source": [
    "### 5 - Baseado no exercício anterior, crie os operador '>' e '<' para dizer qual  veículo é mais potente. Compare um de cada tipo. Observação, sobrescreva os métodos __lt__ e __gt__"
   ]
  },
  {
   "cell_type": "code",
   "execution_count": 5,
   "metadata": {},
   "outputs": [
    {
     "name": "stdout",
     "output_type": "stream",
     "text": [
      "True\n",
      "False\n",
      "False\n"
     ]
    }
   ],
   "source": [
    "class Veiculo:\n",
    "   def __init__(self, peso, potencia, rodas):\n",
    "     self.peso = peso\n",
    "     self.potencia = potencia\n",
    "     self.rodas = rodas\n",
    "   def __lt__(self,outro) :\n",
    "     return self.potencia < outro.potencia\n",
    "   def __gt__(self, outro):\n",
    "     return self.potencia > outro.potencia\n",
    "\n",
    "class Moto(Veiculo):\n",
    "  def __init__(self, peso, potencia, rodas):\n",
    "    Veiculo.__init__(self, peso, potencia, rodas)\n",
    "\n",
    "class Carro(Veiculo):\n",
    "  def __init__(self, peso, potencia, rodas):\n",
    "    Veiculo.__init__(self, peso, potencia, rodas)\n",
    "\n",
    "class Onibus(Veiculo):\n",
    "  def __init__(self, peso, potencia, rodas):\n",
    "    Veiculo.__init__(self, peso, potencia, rodas)\n",
    "\n",
    "onibus = Onibus(1000,400, 6)\n",
    "carro = Carro(300, 100, 4)\n",
    "moto = Moto(100,50,2)\n",
    "\n",
    "print(onibus > carro)\n",
    "print(onibus < moto)\n",
    "print(moto > carro)"
   ]
  },
  {
   "cell_type": "markdown",
   "metadata": {},
   "source": [
    "### 6 - Cria uma classe que represente um número negativo,  use propriedades (@property)  para controlar o valor guardado pela classe,  sem deixar que ele fique positivo (0 pode). Além disso crie alguns operadores  para comparação e de subtração. Cuide para que nenhum valor positivo surja."
   ]
  },
  {
   "cell_type": "code",
   "execution_count": 6,
   "metadata": {},
   "outputs": [
    {
     "name": "stdout",
     "output_type": "stream",
     "text": [
      "-10 -20 0\n",
      "True\n",
      "0\n"
     ]
    }
   ],
   "source": [
    "class NumeroNegativo:\n",
    "  def __init__(self, numero):\n",
    "    self.__numero =0\n",
    "    self.numero = numero \n",
    "  @property\n",
    "  def numero(self):\n",
    "    return self.__numero\n",
    "  @numero.setter\n",
    "  def numero(self, value):\n",
    "    if value <= 0:\n",
    "      self.__numero = value\n",
    "  def __lt__(self, outro):\n",
    "    return self.__numero < outro.__numero\n",
    "  def __gt__(self,outro):\n",
    "    return self.numero > outro.__numero\n",
    "  def __sub__(self, outro):\n",
    "    sub = self.__numero - outro.__numero\n",
    "    if sub > 0:\n",
    "      sub = 0\n",
    "    return sub\n",
    "\n",
    "num1 = NumeroNegativo(-10)\n",
    "num2 = NumeroNegativo(-20)\n",
    "num3 = NumeroNegativo(10)\n",
    "\n",
    "print(num1.numero, num2.numero, num3.numero)\n",
    "print(num1 > num2)\n",
    "print(num1 - num2)"
   ]
  },
  {
   "cell_type": "markdown",
   "metadata": {},
   "source": [
    "### 7 - Crie uma função  que diga se um objeto é um primitivo  do Python, informando que é sempre passado valor Ex: [int, float, str, bool],  ou se é um objeto passado por referência"
   ]
  },
  {
   "cell_type": "code",
   "execution_count": 7,
   "metadata": {},
   "outputs": [
    {
     "name": "stdout",
     "output_type": "stream",
     "text": [
      "Objeto por referência\n",
      "Objeto por valor\n"
     ]
    }
   ],
   "source": [
    "def testa_objeto(obj):\n",
    "  if isinstance(obj, (int, float, str, bool)):\n",
    "    print(\"Objeto por valor\")\n",
    "  else:\n",
    "    print(\"Objeto por referência\")\n",
    "\n",
    "class Objeto:\n",
    "  def __init__(self):\n",
    "    pass\n",
    "\n",
    "obj = Objeto()\n",
    "valor = 3\n",
    "\n",
    "testa_objeto(obj)\n",
    "testa_objeto(valor)\n"
   ]
  }
 ],
 "metadata": {
  "kernelspec": {
   "display_name": "Python 3",
   "language": "python",
   "name": "python3"
  },
  "language_info": {
   "codemirror_mode": {
    "name": "ipython",
    "version": 3
   },
   "file_extension": ".py",
   "mimetype": "text/x-python",
   "name": "python",
   "nbconvert_exporter": "python",
   "pygments_lexer": "ipython3",
   "version": "3.12.5"
  }
 },
 "nbformat": 4,
 "nbformat_minor": 2
}
