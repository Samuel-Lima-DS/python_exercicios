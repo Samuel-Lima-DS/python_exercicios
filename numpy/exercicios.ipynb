{
 "cells": [
  {
   "cell_type": "code",
   "execution_count": 7,
   "metadata": {},
   "outputs": [
    {
     "name": "stdout",
     "output_type": "stream",
     "text": [
      "[0 1 2 3 4 5 6 7 8 9]\n"
     ]
    }
   ],
   "source": [
    "# 1.Crie um array com os números de 0 a 9, utilize somente 1 dimensão.\n",
    "\n",
    "import numpy\n",
    "array = numpy.arange(10)\n",
    "print(array)"
   ]
  },
  {
   "cell_type": "code",
   "execution_count": 8,
   "metadata": {},
   "outputs": [
    {
     "name": "stdout",
     "output_type": "stream",
     "text": [
      "[0 1 2 3 4 5 6 7 8 9]\n"
     ]
    }
   ],
   "source": [
    "# 2.Crie um array com os números de 0 a 9 como o exercício anterior, \n",
    "# mas utilize List Compreensions.\n",
    "\n",
    "import numpy\n",
    "array = numpy.array([i for i in range(0,10)])\n",
    "print(array)"
   ]
  },
  {
   "cell_type": "code",
   "execution_count": 9,
   "metadata": {},
   "outputs": [
    {
     "name": "stdout",
     "output_type": "stream",
     "text": [
      "[[0 1 2]\n",
      " [3 4 5]\n",
      " [6 7 8]]\n"
     ]
    }
   ],
   "source": [
    "# 3.Crie um array com os números de 0 a 8, utilize 2 dimensões, ou seja, \n",
    "# com 3 linhas (3x3)\n",
    "\n",
    "import numpy\n",
    "array = numpy.arange(9).reshape((3,3))\n",
    "print(array)"
   ]
  },
  {
   "cell_type": "code",
   "execution_count": 10,
   "metadata": {},
   "outputs": [
    {
     "name": "stdout",
     "output_type": "stream",
     "text": [
      "[0. 1. 2. 3. 4. 5. 6. 7. 8.]\n"
     ]
    }
   ],
   "source": [
    "# 4.Crie um array do tipo float, com 10 número de sua escolha, \n",
    "# mas utilize 32 bits/4 bytes.\n",
    "\n",
    "import numpy\n",
    "array = numpy.arange(0,9, dtype='f4')\n",
    "print(array)"
   ]
  },
  {
   "cell_type": "code",
   "execution_count": 11,
   "metadata": {},
   "outputs": [
    {
     "name": "stdout",
     "output_type": "stream",
     "text": [
      "[ 1  2  3  4  5  6  7  8  9 10 11 12 13 14 15 16 17 18 19 20]\n",
      "20\n"
     ]
    }
   ],
   "source": [
    "# 5.Crie um array com os números de 1 a 20, escolhendo o tipo de dado que \n",
    "# ocupara o menor espaço da memoria. Em seguida imprima o quanto \n",
    "# ele ocupou em bytes.\n",
    "\n",
    "import numpy\n",
    "array = numpy.arange(1,21, dtype=numpy.int8)\n",
    "print(array)\n",
    "print(array.nbytes)"
   ]
  },
  {
   "cell_type": "code",
   "execution_count": 12,
   "metadata": {},
   "outputs": [
    {
     "name": "stdout",
     "output_type": "stream",
     "text": [
      "[[3 2]\n",
      " [2 3]]\n",
      "3\n",
      "3\n"
     ]
    }
   ],
   "source": [
    "# 6.Crie uma matriz 2x2 e imprima o primeiro elemento da primeira linha, \n",
    "# e o último elemento da última linha.\n",
    "\n",
    "import numpy\n",
    "array = numpy.random.randint(1,5,(2,2))\n",
    "print(array)\n",
    "print(array[0,0])\n",
    "print(array[1,1])"
   ]
  },
  {
   "cell_type": "code",
   "execution_count": 13,
   "metadata": {},
   "outputs": [
    {
     "name": "stdout",
     "output_type": "stream",
     "text": [
      "[[17 15  7]\n",
      " [16 11  6]\n",
      " [14  7 18]]\n",
      "[17 16 14]\n",
      "[14  7 18]\n"
     ]
    }
   ],
   "source": [
    "# 7.Gere uma array 3x3 com números inteiros aleatórios entre 5 e 20. \n",
    "# Então imprima a primeira coluna e última linha\n",
    "\n",
    "import numpy\n",
    "array = numpy.random.randint(5,20,(3,3))\n",
    "print(array)\n",
    "print(array[:,0])\n",
    "print(array[2,:])\n",
    "\n"
   ]
  },
  {
   "cell_type": "code",
   "execution_count": 14,
   "metadata": {},
   "outputs": [
    {
     "name": "stdout",
     "output_type": "stream",
     "text": [
      "[[15 15  8]\n",
      " [39 28 14]\n",
      " [ 3 22 43]]\n",
      "38\n",
      "81\n",
      "68\n"
     ]
    }
   ],
   "source": [
    "# 8. Crie uma matriz 3x3 aleatória. Percorra linha por linha com um laço e \n",
    "# imprima a soma de cada linha.\n",
    "\n",
    "import numpy\n",
    "array = numpy.random.randint(1,50,(3,3))\n",
    "print(array)\n",
    "for linha in array:\n",
    "  print(numpy.sum(linha))\n",
    "\n"
   ]
  },
  {
   "cell_type": "code",
   "execution_count": 15,
   "metadata": {},
   "outputs": [
    {
     "name": "stdout",
     "output_type": "stream",
     "text": [
      "[  0   2   4   6   8  10  12  14  16  18  20  22  24  26  28  30  32  34\n",
      "  36  38  40  42  44  46  48  50  52  54  56  58  60  62  64  66  68  70\n",
      "  72  74  76  78  80  82  84  86  88  90  92  94  96  98 100]\n"
     ]
    }
   ],
   "source": [
    "# 9.Gere um array com os valores pares de 0 a 100 com list comprehension.\n",
    "\n",
    "import numpy\n",
    "array = numpy.array([i for i in range(0,101) if i % 2 ==0 ])\n",
    "print(array)\n",
    "\n"
   ]
  },
  {
   "cell_type": "code",
   "execution_count": 16,
   "metadata": {},
   "outputs": [
    {
     "name": "stdout",
     "output_type": "stream",
     "text": [
      "[5 6 5 8 2 0 4 5 5 5 2 0 1 9 4 7 2 3 8 8 8 8 6 2 8 2 5 0 1 1 4 6 3 2 9 6]\n",
      "[[5 6 5 8 2 0]\n",
      " [4 5 5 5 2 0]\n",
      " [1 9 4 7 2 3]\n",
      " [8 8 8 8 6 2]\n",
      " [8 2 5 0 1 1]\n",
      " [4 6 3 2 9 6]]\n"
     ]
    }
   ],
   "source": [
    "# 10.Crie uma array 4x9 com valores quaisquer, redimensione para as \n",
    "# dimensões 36, e 6x6\n",
    "\n",
    "import numpy\n",
    "array = numpy.random.randint(0,10,(4,9))\n",
    "print(array.reshape((36)))\n",
    "print(array.reshape((6,6)))\n",
    "\n"
   ]
  },
  {
   "cell_type": "code",
   "execution_count": 17,
   "metadata": {},
   "outputs": [
    {
     "name": "stdout",
     "output_type": "stream",
     "text": [
      "[1 2 3 4 5 6 7 8 9]\n"
     ]
    }
   ],
   "source": [
    "# 11. Crie uma função que receba três arrays de mesmo formato, então retorne \n",
    "# elas concatenadas em uma só. Se as matrizes recebidas não forem do \n",
    "# mesmo formato gere uma exceção.\n",
    "\n",
    "import numpy\n",
    "\n",
    "def combina(arr1,arr2,arr3):\n",
    "  if arr1.shape != arr2.shape or arr1.shape != arr3.shape:\n",
    "    raise Exception(\"Formatos são diferentes\")\n",
    "  \n",
    "  return numpy.concatenate((arr1,arr2,arr3))\n",
    "\n",
    "array1 = numpy.array([1,2,3])\n",
    "array2 = numpy.array([4,5,6])\n",
    "array3 = numpy.array([7,8,9])\n",
    "\n",
    "print(combina(array1,array2,array3))\n",
    "\n"
   ]
  },
  {
   "cell_type": "code",
   "execution_count": 18,
   "metadata": {},
   "outputs": [
    {
     "name": "stdout",
     "output_type": "stream",
     "text": [
      "[[1 2 3]\n",
      " [4 5 7]]\n"
     ]
    }
   ],
   "source": [
    "# 12.Crie uma função que divida um array em N pedaços, mas mantenha so os \n",
    "# valores absolutos dos valores deste array.\n",
    "\n",
    "import numpy\n",
    "def divide_abs(arr,n):\n",
    "  arr = numpy.array_split(arr,n)\n",
    "  arr = numpy.abs(arr)\n",
    "  return arr\n",
    "\n",
    "array1 = numpy.array([1,2,3,-4,5,-7])\n",
    "print(divide_abs(array1,2))\n",
    "\n"
   ]
  },
  {
   "cell_type": "code",
   "execution_count": 19,
   "metadata": {},
   "outputs": [
    {
     "name": "stdout",
     "output_type": "stream",
     "text": [
      "5\n"
     ]
    }
   ],
   "source": [
    "# 13.Crie uma função que receba um array e retorne quantos números positivos ela \n",
    "# contêm.\n",
    "\n",
    "import numpy\n",
    "\n",
    "def conta_positivos(arr):\n",
    "  return len(numpy.where(arr>0)[0])\n",
    "\n",
    "array = numpy.array([1,2,3,4,5,-7])\n",
    "print(conta_positivos(array))\n",
    "\n"
   ]
  },
  {
   "cell_type": "code",
   "execution_count": 20,
   "metadata": {},
   "outputs": [
    {
     "name": "stdout",
     "output_type": "stream",
     "text": [
      "[2 5]\n"
     ]
    }
   ],
   "source": [
    "#14.Crie uma função que receba uma matriz e retorne os índices dos números que \n",
    "# são divisíveis por 3.\n",
    "\n",
    "import numpy\n",
    "\n",
    "def divisiveis_por_3(arr):\n",
    "  return numpy.where(arr % 3 == 0)[0]\n",
    "\n",
    "array = numpy.array([4,5,6,7,8,9])\n",
    "print(divisiveis_por_3(array))\n",
    "\n"
   ]
  },
  {
   "cell_type": "code",
   "execution_count": 21,
   "metadata": {},
   "outputs": [
    {
     "name": "stdout",
     "output_type": "stream",
     "text": [
      "True\n"
     ]
    }
   ],
   "source": [
    "# 15.Crie uma função que diga se um array possui números negativos\n",
    "\n",
    "import numpy\n",
    "\n",
    "def tem_negativo(arr):\n",
    "  return numpy.any(arr <0)\n",
    "\n",
    "array = numpy.array([4,-5,6,7,8])\n",
    "print(tem_negativo(array))\n",
    "\n"
   ]
  },
  {
   "cell_type": "code",
   "execution_count": 22,
   "metadata": {},
   "outputs": [
    {
     "name": "stdout",
     "output_type": "stream",
     "text": [
      "[1 5 4 3]\n"
     ]
    }
   ],
   "source": [
    "# 16.Crie uma função que remova os números negativos de uma array.\n",
    "\n",
    "import numpy\n",
    "def tira_negativo(arr):\n",
    "  filter = arr >=0\n",
    "  return arr[filter]\n",
    "\n",
    "array = numpy.array([1,-5,5,4,3,-2,-1])\n",
    "print(tira_negativo(array))\n",
    "\n"
   ]
  },
  {
   "cell_type": "code",
   "execution_count": 23,
   "metadata": {},
   "outputs": [
    {
     "name": "stdout",
     "output_type": "stream",
     "text": [
      "[-10  -9  -8  -7  -6  -5  -4  -3  -2  -1   0   1   2   3   4   5   6   7\n",
      "   8   9  10]\n",
      "[0 1 2 3 4 5 6 7]\n"
     ]
    }
   ],
   "source": [
    "# 17.Crie uma função que receba um número inicial e final, e uma array. \n",
    "# A função deve retornar uma nova array somente com os números \n",
    "# dentro deste intervalo.\n",
    "\n",
    "import numpy\n",
    "\n",
    "def remove_valores(arr, inicial, final):\n",
    "  filter = (arr >= inicial) & (arr <= final)\n",
    "  return arr[filter]\n",
    "\n",
    "array = numpy.array([i for i in range(-10,11)])\n",
    "print(array)\n",
    "print(remove_valores(array,0,7))\n",
    "\n"
   ]
  },
  {
   "cell_type": "code",
   "execution_count": 24,
   "metadata": {},
   "outputs": [
    {
     "name": "stdout",
     "output_type": "stream",
     "text": [
      "[1 1 1 1 1 1 1 1 1 3 3 3 3 3 3 3 3 3 5 5 5 5 5 5 5 5 5 5 5 5 7 7 7 7 7 7 9\n",
      " 9 9 9 9 9 9 9 9 9 9 9 9 9 9 9 9]\n"
     ]
    }
   ],
   "source": [
    "# 18.Crie uma função que ordene uma matriz e remova todos os números impares.\n",
    "\n",
    "import numpy\n",
    "\n",
    "def ordena_pares(arr):\n",
    "  arr = numpy.sort(arr)\n",
    "  filter = arr % 2 == 1\n",
    "  return arr[filter]\n",
    "\n",
    "array = numpy.random.randint(0,10,(100))  \n",
    "print(ordena_pares(array))\n",
    "\n",
    "\n"
   ]
  },
  {
   "cell_type": "code",
   "execution_count": 25,
   "metadata": {},
   "outputs": [
    {
     "name": "stdout",
     "output_type": "stream",
     "text": [
      "[1 3 5 7 9]\n"
     ]
    }
   ],
   "source": [
    "# 19.Realize o mesmo exercício anterior, mas remova valores duplicados.\n",
    "\n",
    "import numpy\n",
    "\n",
    "def ordena_pares_unicos(arr):\n",
    "  arr = numpy.sort(arr)\n",
    "  filter = arr % 2 == 1\n",
    "  return numpy.unique( arr[filter])\n",
    "\n",
    "array = numpy.random.randint(0,10,(100))  \n",
    "print(ordena_pares_unicos(array))\n"
   ]
  }
 ],
 "metadata": {
  "kernelspec": {
   "display_name": "Python 3",
   "language": "python",
   "name": "python3"
  },
  "language_info": {
   "codemirror_mode": {
    "name": "ipython",
    "version": 3
   },
   "file_extension": ".py",
   "mimetype": "text/x-python",
   "name": "python",
   "nbconvert_exporter": "python",
   "pygments_lexer": "ipython3",
   "version": "3.12.5"
  }
 },
 "nbformat": 4,
 "nbformat_minor": 2
}
