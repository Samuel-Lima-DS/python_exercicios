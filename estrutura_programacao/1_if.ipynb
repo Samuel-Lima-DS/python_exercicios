{
 "cells": [
  {
   "cell_type": "markdown",
   "metadata": {},
   "source": [
    "### 1 - Crie um programa que receba seu saldo bancario e o quanto voce deve. Em seguida, o programa deve dizer se voce tem saldo positivo ou negativo"
   ]
  },
  {
   "cell_type": "code",
   "execution_count": 4,
   "metadata": {},
   "outputs": [
    {
     "name": "stdout",
     "output_type": "stream",
     "text": [
      "Você está em débito de R$-5.00\n"
     ]
    }
   ],
   "source": [
    "saldo = float(input('Digite seu saldo: '))\n",
    "devido = float(input('Digite seu débito: '))\n",
    "saldo_final = saldo - devido\n",
    "\n",
    "if saldo_final < 0:\n",
    "    print('Você está em débito de R$%.2f' % saldo_final)\n",
    "else:\n",
    "    print('Você está em crédito de R$%.2f' % saldo_final)\n"
   ]
  },
  {
   "cell_type": "markdown",
   "metadata": {},
   "source": [
    "### 2. Crie um programa que possui uma variavel que guarda seu CPF e que guarde sua senha de sua escolha. Em seguida receba por input uma senha do usuario. Caso a senha sejaa correta mostre seu CPF, caso contrario  diga que a senha incorreta."
   ]
  },
  {
   "cell_type": "code",
   "execution_count": 7,
   "metadata": {},
   "outputs": [
    {
     "name": "stdout",
     "output_type": "stream",
     "text": [
      "Senha correta, seu cpf é : 123.456.789-00\n"
     ]
    }
   ],
   "source": [
    "senha= '123456'\n",
    "cpf = '123.456.789-00'\n",
    "senha_digitada = input('Digite sua senha: ')\n",
    "\n",
    "if senha_digitada == senha:\n",
    "    print('Senha correta, seu cpf é : %s' % cpf)\n",
    "\n",
    "else:\n",
    "    print('Senha invalida, digite novamente')"
   ]
  },
  {
   "cell_type": "markdown",
   "metadata": {},
   "source": [
    "### 3. Crie um programa que fale a sua idade. Voce deve receber por input a sua idade, se tiver ate 3 anos printe que voce é um bebe, se tiver ate 18 voce e adolescente , se tiver ate 65 voce e adulto. Em nenhum desses casos e uum idoso"
   ]
  },
  {
   "cell_type": "code",
   "execution_count": null,
   "metadata": {},
   "outputs": [
    {
     "name": "stdout",
     "output_type": "stream",
     "text": [
      "Idoso\n"
     ]
    }
   ],
   "source": [
    "idade = int(input('Digite sua idade: '))\n",
    "\n",
    "if idade <= 3:\n",
    "    print('Bebe')\n",
    "elif idade > 3 and idade <= 18:\n",
    "    print('Adolescente')\n",
    "elif idade > 18 and idade <=65:\n",
    "    print('Adulto')\n",
    "else:\n",
    "    print('Idoso')"
   ]
  },
  {
   "cell_type": "markdown",
   "metadata": {},
   "source": [
    "### 4. Crie um programa que recebe dois numeros, e tambem recebe do usuario a operação que tem que ser feita e realize a operacao "
   ]
  },
  {
   "cell_type": "code",
   "execution_count": 16,
   "metadata": {},
   "outputs": [
    {
     "name": "stdout",
     "output_type": "stream",
     "text": [
      "Digite uma operacao valida\n"
     ]
    }
   ],
   "source": [
    "num1= int(input('Digite um numero: '))\n",
    "num2= int(input('Digite outro numero: '))\n",
    "operacao= input('Digite a operação desejada: ')\n",
    "\n",
    "if operacao == '+':\n",
    "    print(num1+num2)\n",
    "elif operacao == '-':\n",
    "    print(num1-num2)\n",
    "elif operacao == '*':\n",
    "    print( num1*num2)\n",
    "elif operacao == '/':\n",
    "    print(num1/num2)\n",
    "\n",
    "else: \n",
    "    print('Digite uma operacao valida')"
   ]
  }
 ],
 "metadata": {
  "kernelspec": {
   "display_name": "Python 3",
   "language": "python",
   "name": "python3"
  },
  "language_info": {
   "codemirror_mode": {
    "name": "ipython",
    "version": 3
   },
   "file_extension": ".py",
   "mimetype": "text/x-python",
   "name": "python",
   "nbconvert_exporter": "python",
   "pygments_lexer": "ipython3",
   "version": "3.12.5"
  }
 },
 "nbformat": 4,
 "nbformat_minor": 2
}
