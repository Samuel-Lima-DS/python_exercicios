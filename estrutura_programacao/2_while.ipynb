{
 "cells": [
  {
   "cell_type": "markdown",
   "metadata": {},
   "source": [
    "### 1. Crie um programa que receba 5 numeros e retorne a média aritmetica entre esses numeros"
   ]
  },
  {
   "cell_type": "code",
   "execution_count": 4,
   "metadata": {},
   "outputs": [
    {
     "name": "stdout",
     "output_type": "stream",
     "text": [
      "A média e:  1.0\n"
     ]
    }
   ],
   "source": [
    "soma = 0\n",
    "num_lidos = 0\n",
    "\n",
    "while num_lidos < 5 :\n",
    "    num = int(input('Digite um numero: '))\n",
    "    soma  += num\n",
    "    num_lidos += 1\n",
    "\n",
    "print('A média e: ', soma / num_lidos)"
   ]
  },
  {
   "cell_type": "markdown",
   "metadata": {},
   "source": [
    "### 2. Crie um programa que receba 5 numeros e faça a soma, porem se um numero for negativo não considere ele na soma"
   ]
  },
  {
   "cell_type": "code",
   "execution_count": 5,
   "metadata": {},
   "outputs": [
    {
     "name": "stdout",
     "output_type": "stream",
     "text": [
      "A soma e:  40\n"
     ]
    }
   ],
   "source": [
    "soma = 0\n",
    "num_lidos = 0\n",
    "\n",
    "while num_lidos < 5 :\n",
    "    num = int(input('Digite um numero: '))\n",
    "    if num >=0:\n",
    "        soma  += num\n",
    "    num_lidos += 1\n",
    "\n",
    "print('A soma e: ', soma )"
   ]
  },
  {
   "cell_type": "markdown",
   "metadata": {},
   "source": [
    "### 3. Crie um programa que receba um numero arbitrario denumeros que serão lidos e retorne a soma de todos eles."
   ]
  },
  {
   "cell_type": "code",
   "execution_count": null,
   "metadata": {},
   "outputs": [
    {
     "name": "stdout",
     "output_type": "stream",
     "text": [
      "A soma e:  3\n"
     ]
    }
   ],
   "source": [
    "numeros_que_devem_ser_lidos = float(input('Digite a quantidade de numeros que devem ser lidos: '))\n",
    "\n",
    "soma = 0\n",
    "num_lidos = 0\n",
    "\n",
    "while num_lidos < numeros_que_devem_ser_lidos :\n",
    "    num = int(input('Digite um numero: '))\n",
    "    if num >=0:\n",
    "        soma  += num\n",
    "    num_lidos += 1\n",
    "\n",
    "print('o total e: ', soma )"
   ]
  },
  {
   "cell_type": "markdown",
   "metadata": {},
   "source": [
    "### 4. Percorra os numeros de 2 a 10 e diga se o numero é par ou impar."
   ]
  },
  {
   "cell_type": "code",
   "execution_count": 7,
   "metadata": {},
   "outputs": [
    {
     "name": "stdout",
     "output_type": "stream",
     "text": [
      "O numero 2 e par\n",
      "O numero 3 e impar\n",
      "O numero 4 e par\n",
      "O numero 5 e impar\n",
      "O numero 6 e par\n",
      "O numero 7 e impar\n",
      "O numero 8 e par\n",
      "O numero 9 e impar\n",
      "O numero 10 e par\n"
     ]
    }
   ],
   "source": [
    "num_atual = 2\n",
    "\n",
    "while num_atual <= 10:\n",
    "    resto = num_atual % 2\n",
    "    if resto == 0:\n",
    "        print('O numero %d e par' % num_atual)\n",
    "    else:\n",
    "        print('O numero %d e impar' % num_atual)\n",
    "\n",
    "    num_atual +=1"
   ]
  },
  {
   "cell_type": "markdown",
   "metadata": {},
   "source": [
    "### 5.  Crie um programa que receba como input uma string. Em seguida percorra a string e diga quantos espacos em branco essa string tem."
   ]
  },
  {
   "cell_type": "code",
   "execution_count": 8,
   "metadata": {},
   "outputs": [
    {
     "name": "stdout",
     "output_type": "stream",
     "text": [
      "Quantidade de vazios:  3\n"
     ]
    }
   ],
   "source": [
    "texto = input('Digite um texto: ')\n",
    "indice = 0\n",
    "num_vazios = 0\n",
    "\n",
    "while indice < len(texto):\n",
    "    if texto[indice] == ' ':\n",
    "        num_vazios += 1\n",
    "    indice += 1\n",
    "\n",
    "print('Quantidade de vazios: ', num_vazios)"
   ]
  }
 ],
 "metadata": {
  "kernelspec": {
   "display_name": "Python 3",
   "language": "python",
   "name": "python3"
  },
  "language_info": {
   "codemirror_mode": {
    "name": "ipython",
    "version": 3
   },
   "file_extension": ".py",
   "mimetype": "text/x-python",
   "name": "python",
   "nbconvert_exporter": "python",
   "pygments_lexer": "ipython3",
   "version": "3.12.5"
  }
 },
 "nbformat": 4,
 "nbformat_minor": 2
}
