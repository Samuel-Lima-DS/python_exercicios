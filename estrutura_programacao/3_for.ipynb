{
 "cells": [
  {
   "cell_type": "markdown",
   "metadata": {},
   "source": [
    "### 1. Crie um programa que receba uma strign por input e conte quantos caracteres ela tem, não leva em conta caracter de espaco. Não deve usar o len()"
   ]
  },
  {
   "cell_type": "code",
   "execution_count": 3,
   "metadata": {},
   "outputs": [
    {
     "name": "stdout",
     "output_type": "stream",
     "text": [
      "Python é facil! né?\n",
      "Número de caracteres: 16\n"
     ]
    }
   ],
   "source": [
    "texto = input('Digite um texto: ')\n",
    "num_caracteres = 0\n",
    "\n",
    "for letra in texto:\n",
    "    if letra != ' ':\n",
    "        num_caracteres += 1\n",
    "\n",
    "print(texto)\n",
    "print(f'Número de caracteres: {num_caracteres}')"
   ]
  },
  {
   "cell_type": "markdown",
   "metadata": {},
   "source": [
    "### 2. Crie um programa que faça o calculo do fatorial de um numero. O fatorial a ser calculado deve ser recebido por input."
   ]
  },
  {
   "cell_type": "code",
   "execution_count": 4,
   "metadata": {},
   "outputs": [
    {
     "name": "stdout",
     "output_type": "stream",
     "text": [
      " O fatorial de 4 e 24\n"
     ]
    }
   ],
   "source": [
    "numero_fatorial = int(input('Digite um número: '))\n",
    "resultado = 1\n",
    "\n",
    "for i in range(1 , numero_fatorial + 1):\n",
    "    resultado *= i \n",
    "\n",
    "print( ' O fatorial de %d e %d' % (numero_fatorial, resultado))"
   ]
  },
  {
   "cell_type": "markdown",
   "metadata": {},
   "source": [
    "### 3. rie um programa que leia uma quantidade arbitraria de textos e concatene eles numa string."
   ]
  },
  {
   "cell_type": "code",
   "execution_count": 9,
   "metadata": {},
   "outputs": [
    {
     "name": "stdout",
     "output_type": "stream",
     "text": [
      "Este é o texto digitado: primeiro textosegundoterceiro\n"
     ]
    }
   ],
   "source": [
    "numerodetexto   = int(input('Digite o numero de texto de serao digitados: '))\n",
    "texto_total = ''\n",
    "\n",
    "for i in range (numerodetexto):\n",
    "    texto_total += input('Digite um texto: ')\n",
    "\n",
    "print('Este é o texto digitado: %s' % texto_total)\n",
    "\n"
   ]
  },
  {
   "cell_type": "markdown",
   "metadata": {},
   "source": [
    "### 4. Cria um programa qe imprime a tabauda de divisao de um numero recebido por input"
   ]
  },
  {
   "cell_type": "code",
   "execution_count": 11,
   "metadata": {},
   "outputs": [
    {
     "name": "stdout",
     "output_type": "stream",
     "text": [
      "1 / 4 = 0.250000\n",
      "2 / 4 = 0.500000\n",
      "3 / 4 = 0.750000\n",
      "4 / 4 = 1.000000\n",
      "5 / 4 = 1.250000\n",
      "6 / 4 = 1.500000\n",
      "7 / 4 = 1.750000\n",
      "8 / 4 = 2.000000\n",
      "9 / 4 = 2.250000\n",
      "10 / 4 = 2.500000\n"
     ]
    }
   ],
   "source": [
    "numero = int(input('Digite a tabuada desejada: '))\n",
    "\n",
    "for i in range(1, 11):  \n",
    "    print('%d / %d = %f' % (i,numero, i / numero))"
   ]
  },
  {
   "cell_type": "markdown",
   "metadata": {},
   "source": [
    "### 5. Crie um programa que percorra os numero de 3 ate 30 e diga se o numero é primo ou nao."
   ]
  },
  {
   "cell_type": "code",
   "execution_count": 12,
   "metadata": {},
   "outputs": [
    {
     "name": "stdout",
     "output_type": "stream",
     "text": [
      " O numero 3 é primo\n",
      " O numero 4 nao é primo\n",
      " O numero 5 é primo\n",
      " O numero 6 nao é primo\n",
      " O numero 7 é primo\n",
      " O numero 8 nao é primo\n",
      " O numero 9 nao é primo\n",
      " O numero 10 nao é primo\n",
      " O numero 11 é primo\n",
      " O numero 12 nao é primo\n",
      " O numero 13 é primo\n",
      " O numero 14 nao é primo\n",
      " O numero 15 nao é primo\n",
      " O numero 16 nao é primo\n",
      " O numero 17 é primo\n",
      " O numero 18 nao é primo\n",
      " O numero 19 é primo\n",
      " O numero 20 nao é primo\n",
      " O numero 21 nao é primo\n",
      " O numero 22 nao é primo\n",
      " O numero 23 é primo\n",
      " O numero 24 nao é primo\n",
      " O numero 25 nao é primo\n",
      " O numero 26 nao é primo\n",
      " O numero 27 nao é primo\n",
      " O numero 28 nao é primo\n",
      " O numero 29 é primo\n",
      " O numero 30 nao é primo\n"
     ]
    }
   ],
   "source": [
    "for numero in range(3,31):\n",
    "    e_primo = True\n",
    "\n",
    "    for divisor in range(2,numero):\n",
    "        if numero % divisor == 0:\n",
    "            e_primo = False\n",
    "            break\n",
    "\n",
    "    if e_primo:\n",
    "        print(' O numero %d é primo' % numero)\n",
    "\n",
    "    else:\n",
    "        print( ' O numero %d nao é primo' % numero)\n",
    "        \n"
   ]
  }
 ],
 "metadata": {
  "kernelspec": {
   "display_name": "Python 3",
   "language": "python",
   "name": "python3"
  },
  "language_info": {
   "codemirror_mode": {
    "name": "ipython",
    "version": 3
   },
   "file_extension": ".py",
   "mimetype": "text/x-python",
   "name": "python",
   "nbconvert_exporter": "python",
   "pygments_lexer": "ipython3",
   "version": "3.12.5"
  }
 },
 "nbformat": 4,
 "nbformat_minor": 2
}
