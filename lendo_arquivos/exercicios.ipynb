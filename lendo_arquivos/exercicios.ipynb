{
 "cells": [
  {
   "cell_type": "markdown",
   "metadata": {},
   "source": [
    "# 1 - Leia o seguinte arquivo (“exercicio1.txt”) e transforme em uma lista."
   ]
  },
  {
   "cell_type": "code",
   "execution_count": 1,
   "metadata": {},
   "outputs": [
    {
     "name": "stdout",
     "output_type": "stream",
     "text": [
      "['0\\n', '2\\n', '4\\n', '6\\n', '8\\n']\n"
     ]
    }
   ],
   "source": [
    "lista = []\n",
    "with open('exercicio1.txt', 'rt') as arquivo:\n",
    "  for linha in arquivo:\n",
    "    lista.append(linha)\n",
    "\n",
    "print(lista)"
   ]
  },
  {
   "cell_type": "markdown",
   "metadata": {},
   "source": [
    "# 2 - Leia o seguinte arquivo (“exercicio2.txt”), onde cada linha tem um produto e seu valor. Crie uma classe chamada Produto, para representar cada  item do arquivo, com nome e valor. Salve todos produtos em uma lista,  ao final imprima a lista item por item, mostrando nome e valor."
   ]
  },
  {
   "cell_type": "code",
   "execution_count": 2,
   "metadata": {},
   "outputs": [
    {
     "name": "stdout",
     "output_type": "stream",
     "text": [
      "Carro R$ 200.000,00\n",
      "Cadeira R$ 1000,00\n",
      "Moto R$ 33000,00\n",
      "Geladeira R$ 2000,00\n",
      "ArmÃ¡rio R$ 1500,00\n"
     ]
    }
   ],
   "source": [
    "class Produto:\n",
    "  def __init__(self, nome, valor):\n",
    "    self.nome = nome\n",
    "    self.valor = valor\n",
    "\n",
    "produtos = []\n",
    "\n",
    "with open('exercicio2.txt','rt') as arquivo:\n",
    "  for linha in arquivo:\n",
    "    indice_separa = linha.index(\"R$\")\n",
    "\n",
    "    nome = linha[:indice_separa-1]\n",
    "    valor = linha[indice_separa:len(linha)-1]\n",
    "    produto = Produto(nome, valor)\n",
    "    produtos.append(produto)\n",
    "\n",
    "for produto in produtos:\n",
    "  print(produto.nome, produto.valor)"
   ]
  },
  {
   "cell_type": "markdown",
   "metadata": {},
   "source": [
    "# 3 - Escreva num arquivo os números de 0 até 100. Uma linha para cada número."
   ]
  },
  {
   "cell_type": "code",
   "execution_count": 3,
   "metadata": {},
   "outputs": [],
   "source": [
    "with open('exercicio3.txt','wt') as arquivo:\n",
    "  for i in range(0,101):\n",
    "    arquivo.write(str(i) + '\\n')"
   ]
  },
  {
   "cell_type": "markdown",
   "metadata": {},
   "source": [
    "# 4 - Escreva num arquivo todos números positivos e menores que 100  que são divisíveis por 3."
   ]
  },
  {
   "cell_type": "code",
   "execution_count": 4,
   "metadata": {},
   "outputs": [],
   "source": [
    "with open('exercicio4.txt','wt') as arquivo:\n",
    "  for i in range(0,101):\n",
    "    if i % 3 == 0:\n",
    "      arquivo.write(str(i) + '\\n')"
   ]
  },
  {
   "cell_type": "markdown",
   "metadata": {},
   "source": [
    "# 5 - Crie um arquivo CSV separado por virgula para guardar informações  de sua família. Nesse arquivo deve constar em cada linha o nome de um membro  da família e o grau de parentesco(Ex: pai). Escreva 5 membros da  família no arquivo. Faça uma função que ira escrever no arquivo,  e outra que ira ler o arquivo"
   ]
  },
  {
   "cell_type": "code",
   "execution_count": 5,
   "metadata": {},
   "outputs": [
    {
     "name": "stdout",
     "output_type": "stream",
     "text": [
      "['Nome', 'Parentesco']\n",
      "[]\n",
      "['Pedro', 'Avô']\n",
      "[]\n",
      "['Maria', 'Avó']\n",
      "[]\n",
      "['José', 'Pai']\n",
      "[]\n",
      "['Ana', 'Mãe']\n",
      "[]\n",
      "['Amanda', 'Filha']\n",
      "[]\n"
     ]
    }
   ],
   "source": [
    "import csv\n",
    "\n",
    "def escreve_arquivo():\n",
    "  with open('exercicio5.csv','w') as arquivo:\n",
    "    escritorCSV = csv.writer(arquivo, delimiter=',')\n",
    "    escritorCSV.writerow([\"Nome\",\"Parentesco\"])\n",
    "    escritorCSV.writerow([\"Pedro\",\"Avô\"])\n",
    "    escritorCSV.writerow([\"Maria\",\"Avó\"])\n",
    "    escritorCSV.writerow([\"José\",\"Pai\"])\n",
    "    escritorCSV.writerow([\"Ana\",\"Mãe\"])\n",
    "    escritorCSV.writerow([\"Amanda\",\"Filha\"])\n",
    "\n",
    "def le_arquivo():\n",
    "  with open('exercicio5.csv','r') as arquivo:\n",
    "    leitor = csv.reader(arquivo, delimiter = ',')\n",
    "    for linha in leitor:\n",
    "      print(linha)\n",
    "escreve_arquivo()\n",
    "le_arquivo()\n"
   ]
  },
  {
   "cell_type": "markdown",
   "metadata": {},
   "source": [
    "# 6 - Faça um programa que leia um arquivo CSV separado por virgula  “exercicio6.csv”, onde cada linha tem os seguintes valores  (id_empresa, nome_empresa, numero_funcionarios, lucro).  Modele uma classe empresa que será usada para guardar os valores do arquivo.  Imprima o resultado."
   ]
  },
  {
   "cell_type": "code",
   "execution_count": 6,
   "metadata": {},
   "outputs": [
    {
     "name": "stdout",
     "output_type": "stream",
     "text": [
      "Id NomeEmpresa NumeroFuncionarios Lucro\n",
      "1 Google 200000 R$ 500.000.000\n",
      "2 SAP 50000 R$ 10.000.000\n",
      "3 Microsoft 100000 R$ 300.000.000\n",
      "4 Dell 50000 R$ 90.000.000\n"
     ]
    }
   ],
   "source": [
    "import csv\n",
    "class Empresa:\n",
    "  def __init__(self,id,nome, numero_funcionarios, lucro):\n",
    "    self.id = id\n",
    "    self.nome = nome\n",
    "    self.numero_funcionarios = numero_funcionarios\n",
    "    self.lucro = lucro\n",
    "\n",
    "empresas = []\n",
    "\n",
    "with open('exercicio6.csv','r') as arquivo:\n",
    "  leitor = csv.reader(arquivo, delimiter=',')\n",
    "  for linha in leitor:\n",
    "    emp = Empresa(linha[0], linha[1], linha[2], linha[3])\n",
    "    empresas.append(emp)\n",
    "\n",
    "for emp in empresas:\n",
    "  print(emp.id, emp.nome, emp.numero_funcionarios, emp.lucro)"
   ]
  },
  {
   "cell_type": "markdown",
   "metadata": {},
   "source": [
    "# 7 - Crie uma classe que represente uma pessoa, com nome e idade.  Após criar pelo menos 3 instâncias da classe, crie um método que  transforme essas instâncias em um dicionário, para pode-las salvar  em um arquivo em formato JSON, com nome de “exercicio7.json”.  Este método devem ser um tipo estático da classe.  Leia o arquivo depois de salvo."
   ]
  },
  {
   "cell_type": "code",
   "execution_count": 7,
   "metadata": {},
   "outputs": [
    {
     "name": "stdout",
     "output_type": "stream",
     "text": [
      "{\n",
      "    \"Carlos\": 45,\n",
      "    \"Maria\": 67,\n",
      "    \"Pedro\": 23\n",
      "}\n"
     ]
    }
   ],
   "source": [
    "import json\n",
    "class Pessoa: \n",
    "  def __init__(self, nome, idade):\n",
    "    self.nome = nome\n",
    "    self.idade = idade\n",
    "\n",
    "  @staticmethod\n",
    "  def transforma_dict(*args):\n",
    "    dicionario = dict()\n",
    "    for pessoa in args:\n",
    "      dicionario[pessoa.nome] = pessoa.idade\n",
    "    return dicionario\n",
    "\n",
    "pessoa1 = Pessoa(\"Carlos\", 45)\n",
    "pessoa2 = Pessoa(\"Maria\", 67)\n",
    "pessoa3 = Pessoa(\"Pedro\", 23)\n",
    "\n",
    "dictionario_pessoas = Pessoa.transforma_dict(pessoa1,pessoa2,pessoa3)\n",
    "texto = json.dumps(dictionario_pessoas, indent=4)\n",
    "print(texto)\n",
    "with open('exercicio7.json','wt') as arquivo:\n",
    "  arquivo.write(texto)\n"
   ]
  },
  {
   "cell_type": "markdown",
   "metadata": {},
   "source": [
    "# 8 - Com base no exercício anterior, agora crie uma função do tipo da classe  que leia o arquivo gerado e retorne as instâncias de classes de volta em uma lista."
   ]
  },
  {
   "cell_type": "code",
   "execution_count": 8,
   "metadata": {},
   "outputs": [
    {
     "name": "stdout",
     "output_type": "stream",
     "text": [
      "Carlos 45\n",
      "Maria 67\n",
      "Pedro 23\n"
     ]
    }
   ],
   "source": [
    "import json\n",
    "class Pessoa: \n",
    "  def __init__(self, nome, idade):\n",
    "    self.nome = nome\n",
    "    self.idade = idade\n",
    "\n",
    "  @staticmethod\n",
    "  def transforma_para_pessoa():\n",
    "    pessoas = []\n",
    "    with open('exercicio7.json','rt') as arquivo:\n",
    "      arquivo_lido = arquivo.read()\n",
    "      dicionario = json.loads(arquivo_lido)\n",
    "      for key in dicionario:\n",
    "        pessoa = Pessoa(key,dicionario[key] )\n",
    "        pessoas.append(pessoa)\n",
    "    return pessoas\n",
    "\n",
    "pessoas = Pessoa.transforma_para_pessoa()\n",
    "\n",
    "for pessoa in pessoas:\n",
    "  print(pessoa.nome, pessoa.idade)\n"
   ]
  },
  {
   "cell_type": "markdown",
   "metadata": {},
   "source": [
    "# 9 - Crie um arquivo XML, nesse arquivo XML haverá a tag raiz Root. Dentro dessa raiz podem haver varias tags Estado com atributo nome.  Dentro de cada estado pode haver a tag Cidade mas nesse caso o valor da tag  (texto) devera ser o nome da cidade.  Crie um programa que gere esse arquivo com alguns estados e municípios."
   ]
  },
  {
   "cell_type": "code",
   "execution_count": 9,
   "metadata": {},
   "outputs": [],
   "source": [
    "import xml.etree.ElementTree as xml\n",
    "import os\n",
    "\n",
    "def cria_estado(nome, cidades):\n",
    "  element_estado = xml.Element(\"Estado\", attrib={'nome' : nome})\n",
    "  for cidade in cidades:\n",
    "    elemento_cidade = xml.SubElement(element_estado,'Cidade')\n",
    "    elemento_cidade.text = cidade\n",
    "  return element_estado\n",
    "\n",
    "raiz = xml.Element(\"Root\")\n",
    "no_estado = cria_estado('Rio Grande do Sul',['Santa Maria','Porto Alegre','Novo Hamburgo'])\n",
    "no_estado2 = cria_estado('São Paulo',['Sorocaba','Campinas'])\n",
    "raiz.append(no_estado)\n",
    "raiz.append(no_estado2)\n",
    "\n",
    "arvore = xml.ElementTree(raiz)\n",
    "\n",
    "with open('exercicio9.xml','wb') as files:\n",
    "  arvore.write(files)\n"
   ]
  }
 ],
 "metadata": {
  "kernelspec": {
   "display_name": "Python 3",
   "language": "python",
   "name": "python3"
  },
  "language_info": {
   "codemirror_mode": {
    "name": "ipython",
    "version": 3
   },
   "file_extension": ".py",
   "mimetype": "text/x-python",
   "name": "python",
   "nbconvert_exporter": "python",
   "pygments_lexer": "ipython3",
   "version": "3.12.5"
  }
 },
 "nbformat": 4,
 "nbformat_minor": 2
}
