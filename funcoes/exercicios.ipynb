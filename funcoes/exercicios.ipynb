{
 "cells": [
  {
   "cell_type": "markdown",
   "metadata": {},
   "source": [
    "### 1- Crie uma funcao chamada 'e_negativo' que receba um numero, retorna um booleano True se o numero for negativo e False se for positivo"
   ]
  },
  {
   "cell_type": "code",
   "execution_count": null,
   "metadata": {},
   "outputs": [
    {
     "name": "stdout",
     "output_type": "stream",
     "text": [
      "True\n",
      "False\n"
     ]
    }
   ],
   "source": [
    "def e_negativo(num):\n",
    "    return num < 0\n",
    "\n",
    "print(e_negativo(-5))\n",
    "print(e_negativo(5))"
   ]
  },
  {
   "cell_type": "markdown",
   "metadata": {},
   "source": [
    "### 2- Crie uma funcao de recebe um array de numeros e realiza a soma"
   ]
  },
  {
   "cell_type": "code",
   "execution_count": 5,
   "metadata": {},
   "outputs": [
    {
     "name": "stdout",
     "output_type": "stream",
     "text": [
      "15\n"
     ]
    }
   ],
   "source": [
    "def soma_array (array):\n",
    "    total = 0\n",
    "    for num in array:\n",
    "        total += num\n",
    "    return total\n",
    "\n",
    "print(soma_array([1,2,3,4,5]))"
   ]
  },
  {
   "cell_type": "markdown",
   "metadata": {},
   "source": [
    "### 3- Crie uma funcao que receba uma string e conte a quantidade de vogais"
   ]
  },
  {
   "cell_type": "code",
   "execution_count": 7,
   "metadata": {},
   "outputs": [
    {
     "name": "stdout",
     "output_type": "stream",
     "text": [
      "3\n"
     ]
    }
   ],
   "source": [
    "def conta_vogais(string):\n",
    "    total = 0\n",
    "    vogais = ('a', 'e' ,'i' ,'o' , 'u')\n",
    "    for letra in string:\n",
    "        if letra in vogais:\n",
    "            total += 1\n",
    "    return total\n",
    "\n",
    "print(conta_vogais('banana'))   "
   ]
  },
  {
   "cell_type": "markdown",
   "metadata": {},
   "source": [
    "### 4- Funcao que retorna o ultimo caracter da string"
   ]
  },
  {
   "cell_type": "code",
   "execution_count": 8,
   "metadata": {},
   "outputs": [
    {
     "name": "stdout",
     "output_type": "stream",
     "text": [
      "n\n"
     ]
    }
   ],
   "source": [
    "def pega_ultimo(texto):\n",
    "    return texto[-1]\n",
    "\n",
    "print(pega_ultimo('python'))"
   ]
  },
  {
   "cell_type": "markdown",
   "metadata": {},
   "source": [
    "### 5- Funcao que recebe dois numeros e uma string dizendo se faz uma soma ou subtracao"
   ]
  },
  {
   "cell_type": "code",
   "execution_count": 9,
   "metadata": {},
   "outputs": [
    {
     "name": "stdout",
     "output_type": "stream",
     "text": [
      "15\n",
      "5\n"
     ]
    }
   ],
   "source": [
    "def calcula (num1, num2, operacao):\n",
    "    if operacao == '+':\n",
    "        return num1 + num2\n",
    "    else: \n",
    "        return num1 - num2\n",
    "    \n",
    "\n",
    "print(calcula(10, 5, '+'))\n",
    "print(calcula(10, 5, '-'))"
   ]
  },
  {
   "cell_type": "markdown",
   "metadata": {},
   "source": [
    "### 6- Crie uma funcao que receba uma lista de elementos e um valor qualquer. Em seguida retorne um booleano dizendo se o valor foi encontrado ou não na lista."
   ]
  },
  {
   "cell_type": "code",
   "execution_count": 10,
   "metadata": {},
   "outputs": [
    {
     "name": "stdout",
     "output_type": "stream",
     "text": [
      "True\n",
      "False\n",
      "False\n",
      "True\n"
     ]
    }
   ],
   "source": [
    "def encontra (array, valor):\n",
    "    for num in array:\n",
    "        if num == valor:\n",
    "            return True\n",
    "    return False\n",
    "\n",
    "print(encontra([1,2,3,4,5], 5))\n",
    "print(encontra([1,2,3,4,5], 6))\n",
    "print(encontra([1,2,3,4,5], 0)) \n",
    "print(encontra([1,2,3,4,5], 1))"
   ]
  },
  {
   "cell_type": "markdown",
   "metadata": {},
   "source": [
    "### 7- Crie uma funcao que receba uma lista de elementos e um valor qualquer. Em seguida retorne um booleano dizendo se o valor foi encontrado ou não na lista e sua posição"
   ]
  },
  {
   "cell_type": "code",
   "execution_count": 12,
   "metadata": {},
   "outputs": [
    {
     "name": "stdout",
     "output_type": "stream",
     "text": [
      "(True, 4)\n",
      "(False, -1)\n"
     ]
    }
   ],
   "source": [
    "def encontra_indice (array, valor):\n",
    "    for i in range(len(array)): \n",
    "        if array[i] == valor:\n",
    "            return True , i\n",
    "    return False , -1\n",
    "        \n",
    "\n",
    "print(encontra_indice([1,2,3,4,5], 5))\n",
    "print(encontra_indice([1,2,3,4,5], 6))  \n"
   ]
  },
  {
   "cell_type": "markdown",
   "metadata": {},
   "source": [
    "### 8- Funcao que recebe um numero arbitrario de parametros. E diga qual o tipo de cada parametro"
   ]
  },
  {
   "cell_type": "code",
   "execution_count": 13,
   "metadata": {},
   "outputs": [
    {
     "name": "stdout",
     "output_type": "stream",
     "text": [
      "<class 'int'>\n",
      "<class 'str'>\n",
      "<class 'bool'>\n",
      "<class 'float'>\n"
     ]
    }
   ],
   "source": [
    "def mostra_tipo (*args):\n",
    "    for arg in args:    \n",
    "        print(type(arg))\n",
    "\n",
    "mostra_tipo(1, 'a', True, 2.5)"
   ]
  },
  {
   "cell_type": "markdown",
   "metadata": {},
   "source": [
    "### 9- Funcao que recebe uma string, mas que possua um decorator para transformar em uma citacao, ou seja ela deve retorna string entre aspas duplas,alem disso transformar todos os caracteres em letras minusculas"
   ]
  },
  {
   "cell_type": "code",
   "execution_count": 15,
   "metadata": {},
   "outputs": [
    {
     "name": "stdout",
     "output_type": "stream",
     "text": [
      "\"python é muito bom!\"\n"
     ]
    }
   ],
   "source": [
    "def citacao( func ):\n",
    "    def interna (texto):\n",
    "        return '\"' + func(texto).lower() + '\"'\n",
    "    return interna\n",
    "\n",
    "@citacao\n",
    "def frase(texto):\n",
    "    return texto\n",
    "\n",
    "print(frase('PYTHON é muito bom!'))\n"
   ]
  },
  {
   "cell_type": "markdown",
   "metadata": {},
   "source": [
    "### 10- funcao recursiva que itere numeros de 0 ate 10 e printe o resultado de sua divisao inteira com o numero 3"
   ]
  },
  {
   "cell_type": "code",
   "execution_count": 16,
   "metadata": {},
   "outputs": [
    {
     "name": "stdout",
     "output_type": "stream",
     "text": [
      "0\n",
      "0\n",
      "1\n",
      "1\n",
      "1\n",
      "2\n",
      "2\n",
      "2\n",
      "3\n",
      "3\n"
     ]
    }
   ],
   "source": [
    "def printa_div_por_3(num):\n",
    "    if num == 11:\n",
    "        return\n",
    "    print(num//3)\n",
    "    printa_div_por_3(num+1)\n",
    "\n",
    "printa_div_por_3(1)"
   ]
  }
 ],
 "metadata": {
  "kernelspec": {
   "display_name": "Python 3",
   "language": "python",
   "name": "python3"
  },
  "language_info": {
   "codemirror_mode": {
    "name": "ipython",
    "version": 3
   },
   "file_extension": ".py",
   "mimetype": "text/x-python",
   "name": "python",
   "nbconvert_exporter": "python",
   "pygments_lexer": "ipython3",
   "version": "3.12.5"
  }
 },
 "nbformat": 4,
 "nbformat_minor": 2
}
