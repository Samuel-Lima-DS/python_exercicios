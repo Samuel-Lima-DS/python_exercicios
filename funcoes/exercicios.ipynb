{
 "cells": [
  {
   "cell_type": "markdown",
   "metadata": {},
   "source": [
    "### 1- Crie uma funcao chamada 'e_negativo' que receba um numero, retorna um booleano True se o numero for negativo e False se for positivo"
   ]
  },
  {
   "cell_type": "code",
   "execution_count": null,
   "metadata": {},
   "outputs": [
    {
     "name": "stdout",
     "output_type": "stream",
     "text": [
      "True\n",
      "False\n"
     ]
    }
   ],
   "source": [
    "def e_negativo(num):\n",
    "    return num < 0\n",
    "\n",
    "print(e_negativo(-5))\n",
    "print(e_negativo(5))"
   ]
  },
  {
   "cell_type": "markdown",
   "metadata": {},
   "source": [
    "### 2- Crie uma funcao de recebe um array de numeros e realiza a soma"
   ]
  },
  {
   "cell_type": "code",
   "execution_count": 5,
   "metadata": {},
   "outputs": [
    {
     "name": "stdout",
     "output_type": "stream",
     "text": [
      "15\n"
     ]
    }
   ],
   "source": [
    "def soma_array (array):\n",
    "    total = 0\n",
    "    for num in array:\n",
    "        total += num\n",
    "    return total\n",
    "\n",
    "print(soma_array([1,2,3,4,5]))"
   ]
  },
  {
   "cell_type": "markdown",
   "metadata": {},
   "source": [
    "### 3- Crie uma funcao que receba uma string e conte a quantidade de vogais"
   ]
  },
  {
   "cell_type": "code",
   "execution_count": 7,
   "metadata": {},
   "outputs": [
    {
     "name": "stdout",
     "output_type": "stream",
     "text": [
      "3\n"
     ]
    }
   ],
   "source": [
    "def conta_vogais(string):\n",
    "    total = 0\n",
    "    vogais = ('a', 'e' ,'i' ,'o' , 'u')\n",
    "    for letra in string:\n",
    "        if letra in vogais:\n",
    "            total += 1\n",
    "    return total\n",
    "\n",
    "print(conta_vogais('banana'))   "
   ]
  },
  {
   "cell_type": "markdown",
   "metadata": {},
   "source": [
    "### 4- Funcao que retorna o ultimo caracter da string"
   ]
  },
  {
   "cell_type": "code",
   "execution_count": 8,
   "metadata": {},
   "outputs": [
    {
     "name": "stdout",
     "output_type": "stream",
     "text": [
      "n\n"
     ]
    }
   ],
   "source": [
    "def pega_ultimo(texto):\n",
    "    return texto[-1]\n",
    "\n",
    "print(pega_ultimo('python'))"
   ]
  },
  {
   "cell_type": "markdown",
   "metadata": {},
   "source": [
    "### 5- Funcao que recebe dois numeros e uma string dizendo se faz uma soma ou subtracao"
   ]
  },
  {
   "cell_type": "code",
   "execution_count": 9,
   "metadata": {},
   "outputs": [
    {
     "name": "stdout",
     "output_type": "stream",
     "text": [
      "15\n",
      "5\n"
     ]
    }
   ],
   "source": [
    "def calcula (num1, num2, operacao):\n",
    "    if operacao == '+':\n",
    "        return num1 + num2\n",
    "    else: \n",
    "        return num1 - num2\n",
    "    \n",
    "\n",
    "print(calcula(10, 5, '+'))\n",
    "print(calcula(10, 5, '-'))"
   ]
  }
 ],
 "metadata": {
  "kernelspec": {
   "display_name": "Python 3",
   "language": "python",
   "name": "python3"
  },
  "language_info": {
   "codemirror_mode": {
    "name": "ipython",
    "version": 3
   },
   "file_extension": ".py",
   "mimetype": "text/x-python",
   "name": "python",
   "nbconvert_exporter": "python",
   "pygments_lexer": "ipython3",
   "version": "3.12.5"
  }
 },
 "nbformat": 4,
 "nbformat_minor": 2
}
